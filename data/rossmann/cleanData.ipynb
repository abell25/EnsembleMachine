{
 "cells": [
  {
   "cell_type": "code",
   "execution_count": 9,
   "metadata": {
    "collapsed": false
   },
   "outputs": [],
   "source": [
    "import numpy as np\n",
    "import matplotlib.pyplot as plt\n",
    "import scipy as sp\n",
    "import pandas as pd\n",
    "import os\n",
    "import sys\n",
    "from dateutil import parser\n",
    "from time import time\n",
    "\n",
    "%matplotlib inline\n",
    "\n",
    "import sys\n",
    "sys.path.append('/home/tony/code/python/notebooks/MyLib/EnsembleMachine')\n",
    "\n",
    "import date_feature_extractor\n",
    "reload(date_feature_extractor)\n",
    "from date_feature_extractor import DateFeatureExtractor\n",
    "\n",
    "import categorical_feature_extractor\n",
    "reload(categorical_feature_extractor)\n",
    "from categorical_feature_extractor import CategoricalFeatureExtraction\n",
    "\n",
    "import train_test_data_loader\n",
    "reload(train_test_data_loader)\n",
    "from train_test_data_loader import TrainTestDataLoader\n",
    "\n",
    "import feature_selection\n",
    "reload(feature_selection)\n",
    "from feature_selection import FeatureSelection\n",
    "\n",
    "#for forward/backward regression\n",
    "from sklearn.linear_model import LinearRegression, LogisticRegression, LogisticRegressionCV"
   ]
  },
  {
   "cell_type": "code",
   "execution_count": 2,
   "metadata": {
    "collapsed": false
   },
   "outputs": [
    {
     "name": "stderr",
     "output_type": "stream",
     "text": [
      "INFO:root:logger loaded!\n"
     ]
    }
   ],
   "source": [
    "import logging\n",
    "logger = logging.getLogger()\n",
    "logger.setLevel(logging.INFO)\n",
    "logging.info(\"logger loaded!\")"
   ]
  },
  {
   "cell_type": "code",
   "execution_count": 3,
   "metadata": {
    "collapsed": false
   },
   "outputs": [
    {
     "name": "stderr",
     "output_type": "stream",
     "text": [
      "/home/tony/anaconda/lib/python2.7/site-packages/pandas/io/parsers.py:1170: DtypeWarning: Columns (7) have mixed types. Specify dtype option on import or set low_memory=False.\n",
      "  data = self._reader.read(nrows)\n"
     ]
    }
   ],
   "source": [
    "train_df = pd.read_csv('train.csv')\n",
    "test_df = pd.read_csv('test.csv')\n",
    "store_df = pd.read_csv('store.csv').drop(['PromoInterval'], axis=1, inplace=True)"
   ]
  },
  {
   "cell_type": "markdown",
   "metadata": {},
   "source": [
    "# Loading the data from the file"
   ]
  },
  {
   "cell_type": "code",
   "execution_count": 4,
   "metadata": {
    "collapsed": false,
    "scrolled": true
   },
   "outputs": [
    {
     "name": "stderr",
     "output_type": "stream",
     "text": [
      "INFO:train_test_data_loader:reading train file train.csv\n",
      "INFO:train_test_data_loader:reading test file test.csv\n",
      "INFO:train_test_data_loader:extracting train labels from train_df[Sales]\n",
      "INFO:root:loading Date as a date\n",
      "INFO:root:loading StateHoliday as one-hot (with 5 categories)\n"
     ]
    },
    {
     "name": "stdout",
     "output_type": "stream",
     "text": [
      "completed in 24.1726999283 seconds!\n"
     ]
    }
   ],
   "source": [
    "t0 = time()\n",
    "dataLoader = TrainTestDataLoader('train.csv', 'test.csv', train_labels_column='Sales', test_ids_column='Id')\n",
    "dataLoader.cleanData(max_onehot_limit=200)\n",
    "print('completed in {0} seconds!'.format(time()-t0))"
   ]
  },
  {
   "cell_type": "code",
   "execution_count": 5,
   "metadata": {
    "collapsed": false
   },
   "outputs": [],
   "source": [
    "def loadData(train_df, test_df, id_col='Id', label_col='Sales'):\n",
    "\n",
    "    train_labels = train_df[label_col].values\n",
    "    train_df.drop(label_col, axis=1, inplace=True)\n",
    "\n",
    "    test_ids = test_df[id_col].values\n",
    "    test_df.drop(id_col, axis=1, inplace=True)\n",
    "\n",
    "    # Convert 'object' columns to one-hot encoding\n",
    "    # Ordinal encoding is also available for 'object/int/float' columns.\n",
    "    print('loading one-hot categories [\"StateHoliday\"]')\n",
    "    categoricalFeatureExtractor = CategoricalFeatureExtraction()\n",
    "    categoricalFeatureExtractor.convertColumnsToOneHot([train_df, test_df], ['StateHoliday'])\n",
    "\n",
    "    #Convert date columns to date features (year, month, day, day-of-week, etc.)\n",
    "    print('loading date features for \"Date\"')\n",
    "    dateFeatureExtractor = DateFeatureExtractor()\n",
    "    train_df = dateFeatureExtractor.createFeaturesFromDateColumns(train_df, ['Date'])\n",
    "    test_df = dateFeatureExtractor.createFeaturesFromDateColumns(test_df, ['Date'])\n",
    "\n",
    "    print('imputing null values with 0s')\n",
    "    train_df = train_df.fillna(0)\n",
    "    test_df = test_df.fillna(0)\n",
    "\n",
    "    categoricalFeatureExtractor = CategoricalFeatureExtraction()\n",
    "    categoricalFeatureExtractor.removeUnsharedColumns([train_df, test_df])\n",
    "\n",
    "    #os.mkdir('autoML_rossmann')\n",
    "    train_df.to_csv('rossmann_clean_train.csv', index=False)\n",
    "    test_df.to_csv('rossmann_clean_test.csv', index=False)\n",
    "    pd.DataFrame({'y': train_labels}).to_csv('rossmann_clean_trainLabels.csv', index=False)\n",
    "    pd.DataFrame({'id': test_ids}).to_csv('rossmann_clean_testIds', index=False)\n",
    "\n",
    "    return train_df, test_df, train_labels, test_ids\n",
    "\n",
    "#train_df, test_df, train_labels, test_ids = loadData(train_df, test_df, id_col='Id', label_col='Sales')"
   ]
  },
  {
   "cell_type": "code",
   "execution_count": 6,
   "metadata": {
    "collapsed": false
   },
   "outputs": [
    {
     "data": {
      "text/plain": [
       "((1017209, 14), (41088, 14), (1017209,))"
      ]
     },
     "execution_count": 6,
     "metadata": {},
     "output_type": "execute_result"
    }
   ],
   "source": [
    "X = dataLoader.train_df.values\n",
    "X_sub = dataLoader.test_df.values\n",
    "y = dataLoader.train_labels\n",
    "X.shape, X_sub.shape, y.shape"
   ]
  },
  {
   "cell_type": "markdown",
   "metadata": {},
   "source": [
    "# Selecting features"
   ]
  },
  {
   "cell_type": "code",
   "execution_count": 11,
   "metadata": {
    "collapsed": false
   },
   "outputs": [
    {
     "name": "stdout",
     "output_type": "stream",
     "text": [
      "Extracting features\n"
     ]
    }
   ],
   "source": [
    "print \"Extracting features\"\n",
    "feature_selection = FeatureSelection(lower_is_better=True, method='all', X=X, y=y, clf=LogisticRegressionCV(), problem_type='classification')"
   ]
  },
  {
   "cell_type": "code",
   "execution_count": 12,
   "metadata": {
    "collapsed": false
   },
   "outputs": [
    {
     "data": {
      "text/plain": [
       "((1017209, 14), (1017209, 14))"
      ]
     },
     "execution_count": 12,
     "metadata": {},
     "output_type": "execute_result"
    }
   ],
   "source": [
    "X_all = feature_selection.allSelection(X)\n",
    "X_all.shape, X.shape"
   ]
  },
  {
   "cell_type": "code",
   "execution_count": null,
   "metadata": {
    "collapsed": true
   },
   "outputs": [],
   "source": [
    "X_forwards = FeatureSelection.forwards(X, y, )"
   ]
  },
  {
   "cell_type": "code",
   "execution_count": 496,
   "metadata": {
    "collapsed": false
   },
   "outputs": [
    {
     "data": {
      "text/plain": [
       "[0, 1, 2, 4, 5, 6, 7, 8, 9]"
      ]
     },
     "execution_count": 496,
     "metadata": {},
     "output_type": "execute_result"
    }
   ],
   "source": [
    "z = list(range(10))\n",
    "z.remove(3)\n",
    "z"
   ]
  },
  {
   "cell_type": "code",
   "execution_count": null,
   "metadata": {
    "collapsed": true
   },
   "outputs": [],
   "source": []
  }
 ],
 "metadata": {
  "kernelspec": {
   "display_name": "Python 2",
   "language": "python",
   "name": "python2"
  },
  "language_info": {
   "codemirror_mode": {
    "name": "ipython",
    "version": 2
   },
   "file_extension": ".py",
   "mimetype": "text/x-python",
   "name": "python",
   "nbconvert_exporter": "python",
   "pygments_lexer": "ipython2",
   "version": "2.7.10"
  }
 },
 "nbformat": 4,
 "nbformat_minor": 0
}
